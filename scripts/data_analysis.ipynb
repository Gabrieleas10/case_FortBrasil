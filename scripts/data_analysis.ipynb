{
    "cells": [
        {
            "cell_type": "code",
            "execution_count": 1,
            "source": [
                "# importação das bibliotecas\r\n",
                "\r\n",
                "import pandas as pd\r\n",
                "import numpy as np\r\n",
                "from numpy import mean , median\r\n",
                "import matplotlib.pyplot as plt\r\n",
                "import seaborn as sns\r\n",
                "from datetime import datetime\r\n",
                "from pylab import rcParams"
            ],
            "outputs": [],
            "metadata": {}
        },
        {
            "cell_type": "code",
            "execution_count": 2,
            "source": [
                "# importação das bases de dados\r\n",
                "\r\n",
                "# importações 2019 a 2021\r\n",
                "df_imp19 = pd.read_csv('E:/Projects/case_FortBrasil/data/IMP_2019_MUN.csv', sep = ';', engine='python', encoding='utf-8', error_bad_lines=False)\r\n",
                "df_imp20 = pd.read_csv('E:/Projects/case_FortBrasil/data/IMP_2020_MUN.csv', sep = ';', engine='python', encoding='utf-8', error_bad_lines=False)\r\n",
                "df_imp21 = pd.read_csv('E:/Projects/case_FortBrasil/data/IMP_2021_MUN.csv', sep = ';', engine='python', encoding='utf-8', error_bad_lines=False)\r\n",
                "\r\n",
                "# exportações 2019 a 2021\r\n",
                "df_exp19 = pd.read_csv('E:/Projects/case_FortBrasil/data/EXP_2019_MUN.csv' , sep = ';', engine='python', encoding='utf-8', error_bad_lines=False)\r\n",
                "df_exp20 = pd.read_csv('E:/Projects/case_FortBrasil/data/EXP_2020_MUN.csv' , sep = ';', engine='python', encoding='utf-8', error_bad_lines=False)\r\n",
                "df_exp21 = pd.read_csv('E:/Projects/case_FortBrasil/data/IMP_2021_MUN.csv' , sep = ';', engine='python', encoding='utf-8', error_bad_lines=False)\r\n",
                "\r\n",
                "# tabela dimensão\r\n",
                "df_sh = pd.read_excel('E:/Projects/case_FortBrasil/data/TABELAS_AUXILIARES.xlsx', sheet_name='1')\r\n",
                "df_pais = pd.read_excel('E:/Projects/case_FortBrasil/data/TABELAS_AUXILIARES.xlsx', sheet_name='11')\r\n",
                "df_mun = pd.read_excel('E:/Projects/case_FortBrasil/data/TABELAS_AUXILIARES.xlsx', sheet_name='14')"
            ],
            "outputs": [],
            "metadata": {}
        },
        {
            "cell_type": "code",
            "execution_count": 3,
            "source": [
                "# unindo as bases de dados\r\n",
                "\r\n",
                "df_imp = pd.concat([df_imp19, df_imp20, df_imp21] , ignore_index=True)\r\n",
                "df_exp = pd.concat([df_exp19, df_exp20, df_exp21] , ignore_index=True)"
            ],
            "outputs": [],
            "metadata": {}
        },
        {
            "cell_type": "code",
            "execution_count": 4,
            "source": [
                "# concatenando as bases dimensão e fato: código SH4 com a descrição do produto\r\n",
                "\r\n",
                "df_imp = df_imp.merge(df_sh[['CO_SH4','NO_SH4_POR']] , left_on='SH4', right_on='CO_SH4', how='left')\r\n",
                "df_exp = df_exp.merge(df_sh[['CO_SH4','NO_SH4_POR']] , left_on='SH4', right_on='CO_SH4', how='left')"
            ],
            "outputs": [],
            "metadata": {}
        },
        {
            "cell_type": "code",
            "execution_count": 5,
            "source": [
                "# concatenando as bases dimensão e fato: código país com nome do país\r\n",
                "\r\n",
                "df_imp = df_imp.merge(df_pais[['CO_PAIS','CO_PAIS_ISOA3','NO_PAIS','NO_PAIS_ING']] , on='CO_PAIS', how='left')\r\n",
                "df_exp = df_exp.merge(df_pais[['CO_PAIS','CO_PAIS_ISOA3','NO_PAIS','NO_PAIS_ING']] , on='CO_PAIS', how='left')"
            ],
            "outputs": [],
            "metadata": {}
        },
        {
            "cell_type": "code",
            "execution_count": 6,
            "source": [
                "# concatenando as bases dimensão e fato: código SH4 com a descrição do produto\r\n",
                "\r\n",
                "df_imp = df_imp.merge(df_mun[['CO_MUN_GEO','NO_MUN']] , left_on='CO_MUN', right_on='CO_MUN_GEO', how='left')\r\n",
                "df_exp = df_exp.merge(df_mun[['CO_MUN_GEO','NO_MUN']] , left_on='CO_MUN', right_on='CO_MUN_GEO', how='left')"
            ],
            "outputs": [],
            "metadata": {}
        },
        {
            "cell_type": "code",
            "execution_count": 8,
            "source": [
                "# análise para os últimos 2 anos: 06/2019 a 06/2021\r\n",
                "\r\n",
                "df_imp['CO_MES'] = df_imp['CO_MES'].apply(lambda x: str(x))\r\n",
                "df_imp['CO_ANO'] = df_imp['CO_ANO'].apply(lambda x: str(x))\r\n",
                "df_imp['DATA'] = df_imp['CO_ANO'] +'-' + df_imp['CO_MES'] \r\n",
                "df_imp['DATA'] = df_imp['DATA'].apply(lambda x: datetime.strptime(x, '%Y-%m'))"
            ],
            "outputs": [],
            "metadata": {}
        },
        {
            "cell_type": "code",
            "execution_count": null,
            "source": [
                "# contagem de importações por país TOP5\r\n",
                "rcParams['figure.figsize'] = 10, 7\r\n",
                "sns.countplot(data=df_imp, x='CO_PAIS_ISOA3', palette=\"Greens_d\",\r\n",
                "              order=df_imp.CO_PAIS_ISOA3.value_counts().iloc[:5].index).set_title('TOP 5 Países de Importações')"
            ],
            "outputs": [],
            "metadata": {}
        },
        {
            "cell_type": "code",
            "execution_count": null,
            "source": [
                "# contagem de exportações por país TOP5\r\n",
                "rcParams['figure.figsize'] = 10, 7\r\n",
                "sns.countplot(data=df_exp, x='CO_PAIS_ISOA3', palette=\"Greens_d\", \r\n",
                "              order=df_exp.CO_PAIS_ISOA3.value_counts().iloc[:5].index).set_title('TOP 5 Países de Exportações')"
            ],
            "outputs": [],
            "metadata": {}
        }
    ],
    "metadata": {
        "orig_nbformat": 4,
        "language_info": {
            "name": "python",
            "version": "3.9.2",
            "mimetype": "text/x-python",
            "codemirror_mode": {
                "name": "ipython",
                "version": 3
            },
            "pygments_lexer": "ipython3",
            "nbconvert_exporter": "python",
            "file_extension": ".py"
        },
        "kernelspec": {
            "name": "python3",
            "display_name": "Python 3.9.2 64-bit"
        },
        "interpreter": {
            "hash": "c33996a1a7c5fda85612bd918562506cfff69a3497605696c7a2bee4a3573303"
        }
    },
    "nbformat": 4,
    "nbformat_minor": 2
}